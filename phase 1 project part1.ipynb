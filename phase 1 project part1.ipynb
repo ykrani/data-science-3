{
 "cells": [
  {
   "cell_type": "code",
   "execution_count": 2,
   "id": "1d1b036d",
   "metadata": {},
   "outputs": [],
   "source": [
    "import pandas as pd\n",
    "name=[\"vaibhavi\",\"kirthana\",\"ranuka\",\"vijay\"]\n",
    "age=[12,13,14,15]\n",
    "gender=[\"female\",\"female\",\"female\",\"male\"]\n",
    "student=pd.DataFrame({'name':name,'age':age,'gender':gender})\n"
   ]
  },
  {
   "cell_type": "code",
   "execution_count": null,
   "id": "613e0a20",
   "metadata": {},
   "outputs": [],
   "source": [
    "#Here we will be importing the pandas package and we will be giving name,age ,gender to create a csv file and we will be creating a table also and creating a data frame.."
   ]
  },
  {
   "cell_type": "code",
   "execution_count": null,
   "id": "dec503c6",
   "metadata": {},
   "outputs": [],
   "source": [
    "#Viewing the data and table has been created"
   ]
  },
  {
   "cell_type": "code",
   "execution_count": 3,
   "id": "a93a4326",
   "metadata": {},
   "outputs": [
    {
     "data": {
      "text/html": [
       "<div>\n",
       "<style scoped>\n",
       "    .dataframe tbody tr th:only-of-type {\n",
       "        vertical-align: middle;\n",
       "    }\n",
       "\n",
       "    .dataframe tbody tr th {\n",
       "        vertical-align: top;\n",
       "    }\n",
       "\n",
       "    .dataframe thead th {\n",
       "        text-align: right;\n",
       "    }\n",
       "</style>\n",
       "<table border=\"1\" class=\"dataframe\">\n",
       "  <thead>\n",
       "    <tr style=\"text-align: right;\">\n",
       "      <th></th>\n",
       "      <th>name</th>\n",
       "      <th>age</th>\n",
       "      <th>gender</th>\n",
       "    </tr>\n",
       "  </thead>\n",
       "  <tbody>\n",
       "    <tr>\n",
       "      <th>0</th>\n",
       "      <td>vaibhavi</td>\n",
       "      <td>12</td>\n",
       "      <td>female</td>\n",
       "    </tr>\n",
       "    <tr>\n",
       "      <th>1</th>\n",
       "      <td>kirthana</td>\n",
       "      <td>13</td>\n",
       "      <td>female</td>\n",
       "    </tr>\n",
       "    <tr>\n",
       "      <th>2</th>\n",
       "      <td>ranuka</td>\n",
       "      <td>14</td>\n",
       "      <td>female</td>\n",
       "    </tr>\n",
       "    <tr>\n",
       "      <th>3</th>\n",
       "      <td>vijay</td>\n",
       "      <td>15</td>\n",
       "      <td>male</td>\n",
       "    </tr>\n",
       "  </tbody>\n",
       "</table>\n",
       "</div>"
      ],
      "text/plain": [
       "       name  age  gender\n",
       "0  vaibhavi   12  female\n",
       "1  kirthana   13  female\n",
       "2    ranuka   14  female\n",
       "3     vijay   15    male"
      ]
     },
     "execution_count": 3,
     "metadata": {},
     "output_type": "execute_result"
    }
   ],
   "source": [
    "student"
   ]
  },
  {
   "cell_type": "code",
   "execution_count": null,
   "id": "e682591b",
   "metadata": {},
   "outputs": [],
   "source": [
    "#created a csv file"
   ]
  },
  {
   "cell_type": "code",
   "execution_count": 4,
   "id": "9f06e85e",
   "metadata": {},
   "outputs": [],
   "source": [
    "student.to_csv(\"student.csv\")"
   ]
  },
  {
   "cell_type": "code",
   "execution_count": null,
   "id": "8933078d",
   "metadata": {},
   "outputs": [],
   "source": []
  }
 ],
 "metadata": {
  "kernelspec": {
   "display_name": "Python 3 (ipykernel)",
   "language": "python",
   "name": "python3"
  },
  "language_info": {
   "codemirror_mode": {
    "name": "ipython",
    "version": 3
   },
   "file_extension": ".py",
   "mimetype": "text/x-python",
   "name": "python",
   "nbconvert_exporter": "python",
   "pygments_lexer": "ipython3",
   "version": "3.11.4"
  }
 },
 "nbformat": 4,
 "nbformat_minor": 5
}
